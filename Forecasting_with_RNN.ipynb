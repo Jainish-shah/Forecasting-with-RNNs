{
  "nbformat": 4,
  "nbformat_minor": 0,
  "metadata": {
    "colab": {
      "name": "Forecasting_with_RNN.ipynb",
      "provenance": []
    },
    "kernelspec": {
      "name": "python3",
      "display_name": "Python 3"
    },
    "language_info": {
      "name": "python"
    }
  },
  "cells": [
    {
      "cell_type": "markdown",
      "metadata": {
        "id": "W5DGF2bLxMXo"
      },
      "source": [
        "# Forecasting with an RNN"
      ]
    },
    {
      "cell_type": "markdown",
      "metadata": {
        "id": "RdGIaqB8xY98"
      },
      "source": [
        "### Setup"
      ]
    },
    {
      "cell_type": "code",
      "metadata": {
        "id": "Hbr3A66Zxi3j"
      },
      "source": [
        "import numpy as np\n",
        "import matplotlib.pyplot as plt\n",
        "import tensorflow as tf\n",
        "\n",
        "keras = tf.keras"
      ],
      "execution_count": 1,
      "outputs": []
    },
    {
      "cell_type": "code",
      "metadata": {
        "id": "ixKulArzxsH9"
      },
      "source": [
        "def plot_series(time, series, format=\"-\", start=0, end=None, label=None):\n",
        "  plt.plot(time[start:end], series[start:end], format, label=label)\n",
        "  plt.xlabel(\"Time\")\n",
        "  plt.ylabel(\"Value\")\n",
        "  if label:\n",
        "    plt.legend(fontsize = 14)\n",
        "  plt.grid(True)\n",
        "\n",
        "def trend(time, slope=0):\n",
        "    return slope * time\n",
        "  \n",
        "  \n",
        "def seasonal_pattern(season_time):\n",
        "    \"\"\"Just an arbitrary pattern, you can change it if you wish\"\"\"\n",
        "    return np.where(season_time < 0.4,\n",
        "                    np.cos(season_time * 2 * np.pi),\n",
        "                    1 / np.exp(3 * season_time))\n",
        "def seasonality(time, period, amplitude=1, phase=0):\n",
        "    \"\"\"Repeats the same pattern at each period\"\"\"\n",
        "    season_time = ((time + phase) % period) / period\n",
        "    return amplitude * seasonal_pattern(season_time)\n",
        "  \n",
        "  \n",
        "def white_noise(time, noise_level=1, seed=None):\n",
        "    rnd = np.random.RandomState(seed)\n",
        "    return rnd.randn(len(time)) * noise_level\n",
        "  \n",
        "  \n",
        "def window_dataset(series, window_size, batch_size=32,\n",
        "                   shuffle_buffer=1000):\n",
        "    dataset = tf.data.Dataset.from_tensor_slices(series)\n",
        "    dataset = dataset.window(window_size + 1, shift=1, drop_remainder=True)\n",
        "    dataset = dataset.flat_map(lambda window: window.batch(window_size + 1))\n",
        "    dataset = dataset.shuffle(shuffle_buffer)\n",
        "    dataset = dataset.map(lambda window: (window[:-1], window[-1]))\n",
        "    dataset = dataset.batch(batch_size).prefetch(1)\n",
        "    return dataset\n",
        "  \n",
        "def model_forecast(model, series, window_size):\n",
        "    ds = tf.data.Dataset.from_tensor_slices(series)\n",
        "    ds = ds.window(window_size, shift=1, drop_remainder=True)\n",
        "    ds = ds.flat_map(lambda w: w.batch(window_size))\n",
        "    ds = ds.batch(32).prefetch(1)\n",
        "    forecast = model.predict(ds)\n",
        "    return forecast"
      ],
      "execution_count": 3,
      "outputs": []
    },
    {
      "cell_type": "code",
      "metadata": {
        "id": "c50WATc6y27N"
      },
      "source": [
        "time = np.arange(4 * 365 + 1)\n",
        "\n",
        "slope = 0.05\n",
        "baseline = 10\n",
        "amplitude = 40\n",
        "series = baseline + trend(time, slope) + seasonality(time, period = 365, amplitude=amplitude)"
      ],
      "execution_count": 4,
      "outputs": []
    },
    {
      "cell_type": "code",
      "metadata": {
        "id": "lKoHZhcNzOOP"
      },
      "source": [
        "split_time = 1000\n",
        "time_train = time[:split_time]\n",
        "x_train = series[:split_time]\n",
        "time_valid = time[split_time:]\n",
        "x_valid = series[split_time:]"
      ],
      "execution_count": 5,
      "outputs": []
    },
    {
      "cell_type": "markdown",
      "metadata": {
        "id": "Z-jg6QSZzk4X"
      },
      "source": [
        "### Simple RNN Forecasting"
      ]
    },
    {
      "cell_type": "code",
      "metadata": {
        "colab": {
          "base_uri": "https://localhost:8080/"
        },
        "id": "V4pTOBJSzw6z",
        "outputId": "f4193d67-ccc2-4f99-fc84-0d71bc9a17e0"
      },
      "source": [
        "keras.backend.clear_session()\n",
        "tf.random.set_seed(42)\n",
        "np.random.seed(42)\n",
        "\n",
        "window_size = 30\n",
        "train_set = window_dataset(x_train, window_size, batch_size=128)\n",
        "\n",
        "model = keras.models.Sequential([\n",
        "    keras.layers.Lambda(lambda x:tf.expand_dims(x,axis=-1),\n",
        "                        input_shape=[None]),\n",
        "    keras.layers.SimpleRNN(100, return_sequences=True),\n",
        "    keras.layers.SimpleRNN(100),\n",
        "    keras.layers.Dense(1),\n",
        "    keras.layers.Lambda(lambda x:x*200.0)\n",
        "])\n",
        "\n",
        "lr_schedule = keras.callbacks.LearningRateScheduler(\n",
        "    lambda epoch: 1e-7 * 10**(epoch / 20))\n",
        "optimizer = keras.optimizers.SGD(lr=1e-7, momentum=0.9)\n",
        "model.compile(loss=keras.losses.Huber(),\n",
        "              optimizer=optimizer,\n",
        "              metrics=[\"mae\"])\n",
        "history = model.fit(train_set, epochs=100, callbacks=[lr_schedule])"
      ],
      "execution_count": 6,
      "outputs": [
        {
          "output_type": "stream",
          "text": [
            "/usr/local/lib/python3.7/dist-packages/tensorflow/python/keras/optimizer_v2/optimizer_v2.py:375: UserWarning: The `lr` argument is deprecated, use `learning_rate` instead.\n",
            "  \"The `lr` argument is deprecated, use `learning_rate` instead.\")\n"
          ],
          "name": "stderr"
        },
        {
          "output_type": "stream",
          "text": [
            "Epoch 1/100\n",
            "8/8 [==============================] - 2s 30ms/step - loss: 50.4896 - mae: 50.9890\n",
            "Epoch 2/100\n",
            "8/8 [==============================] - 0s 25ms/step - loss: 21.5391 - mae: 22.0362\n",
            "Epoch 3/100\n",
            "8/8 [==============================] - 0s 25ms/step - loss: 16.4559 - mae: 16.9521\n",
            "Epoch 4/100\n",
            "8/8 [==============================] - 0s 24ms/step - loss: 12.3444 - mae: 12.8270\n",
            "Epoch 5/100\n",
            "8/8 [==============================] - 0s 24ms/step - loss: 11.0349 - mae: 11.5265\n",
            "Epoch 6/100\n",
            "8/8 [==============================] - 0s 25ms/step - loss: 9.2118 - mae: 9.6907\n",
            "Epoch 7/100\n",
            "8/8 [==============================] - 0s 24ms/step - loss: 8.2313 - mae: 8.6392\n",
            "Epoch 8/100\n",
            "8/8 [==============================] - 0s 23ms/step - loss: 7.9267 - mae: 8.3910\n",
            "Epoch 9/100\n",
            "8/8 [==============================] - 0s 26ms/step - loss: 7.7075 - mae: 8.1778\n",
            "Epoch 10/100\n",
            "8/8 [==============================] - 0s 25ms/step - loss: 7.3149 - mae: 7.7869\n",
            "Epoch 11/100\n",
            "8/8 [==============================] - 0s 25ms/step - loss: 6.4659 - mae: 6.9062\n",
            "Epoch 12/100\n",
            "8/8 [==============================] - 0s 24ms/step - loss: 6.9239 - mae: 7.3790\n",
            "Epoch 13/100\n",
            "8/8 [==============================] - 0s 25ms/step - loss: 6.7380 - mae: 7.2149\n",
            "Epoch 14/100\n",
            "8/8 [==============================] - 0s 23ms/step - loss: 5.2172 - mae: 5.6560\n",
            "Epoch 15/100\n",
            "8/8 [==============================] - 0s 23ms/step - loss: 5.1104 - mae: 5.5950\n",
            "Epoch 16/100\n",
            "8/8 [==============================] - 0s 25ms/step - loss: 4.7949 - mae: 5.2668\n",
            "Epoch 17/100\n",
            "8/8 [==============================] - 0s 26ms/step - loss: 4.3570 - mae: 4.8150\n",
            "Epoch 18/100\n",
            "8/8 [==============================] - 0s 24ms/step - loss: 4.5451 - mae: 4.9969\n",
            "Epoch 19/100\n",
            "8/8 [==============================] - 0s 25ms/step - loss: 8.2295 - mae: 8.7287\n",
            "Epoch 20/100\n",
            "8/8 [==============================] - 0s 24ms/step - loss: 7.7136 - mae: 8.1892\n",
            "Epoch 21/100\n",
            "8/8 [==============================] - 0s 24ms/step - loss: 9.0481 - mae: 9.5316\n",
            "Epoch 22/100\n",
            "8/8 [==============================] - 0s 23ms/step - loss: 7.6452 - mae: 8.1399\n",
            "Epoch 23/100\n",
            "8/8 [==============================] - 0s 25ms/step - loss: 5.2650 - mae: 5.7533\n",
            "Epoch 24/100\n",
            "8/8 [==============================] - 0s 24ms/step - loss: 6.8604 - mae: 7.3405\n",
            "Epoch 25/100\n",
            "8/8 [==============================] - 0s 25ms/step - loss: 10.2519 - mae: 10.7489\n",
            "Epoch 26/100\n",
            "8/8 [==============================] - 0s 24ms/step - loss: 11.4001 - mae: 11.8994\n",
            "Epoch 27/100\n",
            "8/8 [==============================] - 0s 24ms/step - loss: 12.1772 - mae: 12.6744\n",
            "Epoch 28/100\n",
            "8/8 [==============================] - 0s 23ms/step - loss: 21.7428 - mae: 22.2387\n",
            "Epoch 29/100\n",
            "8/8 [==============================] - 0s 23ms/step - loss: 23.1304 - mae: 23.6228\n",
            "Epoch 30/100\n",
            "8/8 [==============================] - 0s 26ms/step - loss: 16.0639 - mae: 16.5511\n",
            "Epoch 31/100\n",
            "8/8 [==============================] - 0s 26ms/step - loss: 26.8818 - mae: 27.3818\n",
            "Epoch 32/100\n",
            "8/8 [==============================] - 0s 23ms/step - loss: 45.5992 - mae: 46.0823\n",
            "Epoch 33/100\n",
            "8/8 [==============================] - 0s 28ms/step - loss: 23.5134 - mae: 24.0104\n",
            "Epoch 34/100\n",
            "8/8 [==============================] - 0s 25ms/step - loss: 14.9623 - mae: 15.4485\n",
            "Epoch 35/100\n",
            "8/8 [==============================] - 0s 24ms/step - loss: 17.3190 - mae: 17.8142\n",
            "Epoch 36/100\n",
            "8/8 [==============================] - 0s 24ms/step - loss: 16.1217 - mae: 16.6212\n",
            "Epoch 37/100\n",
            "8/8 [==============================] - 0s 26ms/step - loss: 18.9678 - mae: 19.4666\n",
            "Epoch 38/100\n",
            "8/8 [==============================] - 0s 24ms/step - loss: 18.2470 - mae: 18.7457\n",
            "Epoch 39/100\n",
            "8/8 [==============================] - 0s 25ms/step - loss: 22.8696 - mae: 23.3695\n",
            "Epoch 40/100\n",
            "8/8 [==============================] - 0s 23ms/step - loss: 18.9579 - mae: 19.4569\n",
            "Epoch 41/100\n",
            "8/8 [==============================] - 0s 24ms/step - loss: 34.9805 - mae: 35.4785\n",
            "Epoch 42/100\n",
            "8/8 [==============================] - 0s 24ms/step - loss: 48.0768 - mae: 48.5768\n",
            "Epoch 43/100\n",
            "8/8 [==============================] - 0s 26ms/step - loss: 47.5715 - mae: 48.0715\n",
            "Epoch 44/100\n",
            "8/8 [==============================] - 0s 26ms/step - loss: 51.9563 - mae: 52.4559\n",
            "Epoch 45/100\n",
            "8/8 [==============================] - 0s 26ms/step - loss: 19.7443 - mae: 20.2424\n",
            "Epoch 46/100\n",
            "8/8 [==============================] - 0s 25ms/step - loss: 16.2466 - mae: 16.7432\n",
            "Epoch 47/100\n",
            "8/8 [==============================] - 0s 25ms/step - loss: 28.9091 - mae: 29.3854\n",
            "Epoch 48/100\n",
            "8/8 [==============================] - 0s 27ms/step - loss: 74.4888 - mae: 74.9888\n",
            "Epoch 49/100\n",
            "8/8 [==============================] - 0s 25ms/step - loss: 121.9949 - mae: 122.4948\n",
            "Epoch 50/100\n",
            "8/8 [==============================] - 0s 26ms/step - loss: 122.5508 - mae: 123.0508\n",
            "Epoch 51/100\n",
            "8/8 [==============================] - 0s 24ms/step - loss: 58.9002 - mae: 59.4002\n",
            "Epoch 52/100\n",
            "8/8 [==============================] - 0s 26ms/step - loss: 79.9156 - mae: 80.4151\n",
            "Epoch 53/100\n",
            "8/8 [==============================] - 0s 24ms/step - loss: 43.5332 - mae: 44.0301\n",
            "Epoch 54/100\n",
            "8/8 [==============================] - 0s 24ms/step - loss: 51.6605 - mae: 52.1586\n",
            "Epoch 55/100\n",
            "8/8 [==============================] - 0s 25ms/step - loss: 57.6332 - mae: 58.1298\n",
            "Epoch 56/100\n",
            "8/8 [==============================] - 0s 25ms/step - loss: 81.8752 - mae: 82.3751\n",
            "Epoch 57/100\n",
            "8/8 [==============================] - 0s 27ms/step - loss: 54.1591 - mae: 54.6587\n",
            "Epoch 58/100\n",
            "8/8 [==============================] - 0s 24ms/step - loss: 126.3080 - mae: 126.8080\n",
            "Epoch 59/100\n",
            "8/8 [==============================] - 0s 26ms/step - loss: 97.4325 - mae: 97.9325\n",
            "Epoch 60/100\n",
            "8/8 [==============================] - 0s 24ms/step - loss: 83.4872 - mae: 83.9865\n",
            "Epoch 61/100\n",
            "8/8 [==============================] - 0s 28ms/step - loss: 67.1778 - mae: 67.6771\n",
            "Epoch 62/100\n",
            "8/8 [==============================] - 0s 24ms/step - loss: 77.4765 - mae: 77.9756\n",
            "Epoch 63/100\n",
            "8/8 [==============================] - 0s 25ms/step - loss: 46.5029 - mae: 46.9993\n",
            "Epoch 64/100\n",
            "8/8 [==============================] - 0s 25ms/step - loss: 44.4063 - mae: 44.8985\n",
            "Epoch 65/100\n",
            "8/8 [==============================] - 0s 26ms/step - loss: 176.6948 - mae: 177.1948\n",
            "Epoch 66/100\n",
            "8/8 [==============================] - 0s 25ms/step - loss: 191.0000 - mae: 191.4974\n",
            "Epoch 67/100\n",
            "8/8 [==============================] - 0s 23ms/step - loss: 139.0160 - mae: 139.5160\n",
            "Epoch 68/100\n",
            "8/8 [==============================] - 0s 25ms/step - loss: 140.7093 - mae: 141.2092\n",
            "Epoch 69/100\n",
            "8/8 [==============================] - 0s 24ms/step - loss: 127.3909 - mae: 127.8905\n",
            "Epoch 70/100\n",
            "8/8 [==============================] - 0s 26ms/step - loss: 133.8232 - mae: 134.3227\n",
            "Epoch 71/100\n",
            "8/8 [==============================] - 0s 23ms/step - loss: 344.9118 - mae: 345.4118\n",
            "Epoch 72/100\n",
            "8/8 [==============================] - 0s 25ms/step - loss: 714.6189 - mae: 715.1189\n",
            "Epoch 73/100\n",
            "8/8 [==============================] - 0s 27ms/step - loss: 803.8217 - mae: 804.3217\n",
            "Epoch 74/100\n",
            "8/8 [==============================] - 0s 24ms/step - loss: 914.5157 - mae: 915.0157\n",
            "Epoch 75/100\n",
            "8/8 [==============================] - 0s 26ms/step - loss: 1060.8899 - mae: 1061.3899\n",
            "Epoch 76/100\n",
            "8/8 [==============================] - 0s 25ms/step - loss: 1158.0640 - mae: 1158.5640\n",
            "Epoch 77/100\n",
            "8/8 [==============================] - 0s 26ms/step - loss: 1332.7135 - mae: 1333.2135\n",
            "Epoch 78/100\n",
            "8/8 [==============================] - 0s 24ms/step - loss: 2851.6492 - mae: 2852.1492\n",
            "Epoch 79/100\n",
            "8/8 [==============================] - 0s 25ms/step - loss: 2738.3796 - mae: 2738.8796\n",
            "Epoch 80/100\n",
            "8/8 [==============================] - 0s 26ms/step - loss: 2235.9897 - mae: 2236.4897\n",
            "Epoch 81/100\n",
            "8/8 [==============================] - 0s 24ms/step - loss: 3798.0964 - mae: 3798.5964\n",
            "Epoch 82/100\n",
            "8/8 [==============================] - 0s 24ms/step - loss: 4116.6245 - mae: 4117.1245\n",
            "Epoch 83/100\n",
            "8/8 [==============================] - 0s 26ms/step - loss: 5065.4707 - mae: 5065.9707\n",
            "Epoch 84/100\n",
            "8/8 [==============================] - 0s 23ms/step - loss: 6263.6470 - mae: 6264.1470\n",
            "Epoch 85/100\n",
            "8/8 [==============================] - 0s 25ms/step - loss: 8774.9883 - mae: 8775.4883\n",
            "Epoch 86/100\n",
            "8/8 [==============================] - 0s 24ms/step - loss: 7201.7339 - mae: 7202.2339\n",
            "Epoch 87/100\n",
            "8/8 [==============================] - 0s 24ms/step - loss: 12334.0615 - mae: 12334.5615\n",
            "Epoch 88/100\n",
            "8/8 [==============================] - 0s 25ms/step - loss: 4353.2261 - mae: 4353.7261\n",
            "Epoch 89/100\n",
            "8/8 [==============================] - 0s 27ms/step - loss: 5667.0762 - mae: 5667.5762\n",
            "Epoch 90/100\n",
            "8/8 [==============================] - 0s 24ms/step - loss: 6069.4243 - mae: 6069.9243\n",
            "Epoch 91/100\n",
            "8/8 [==============================] - 0s 24ms/step - loss: 10800.5898 - mae: 10801.0898\n",
            "Epoch 92/100\n",
            "8/8 [==============================] - 0s 26ms/step - loss: 10737.0342 - mae: 10737.5342\n",
            "Epoch 93/100\n",
            "8/8 [==============================] - 0s 26ms/step - loss: 14046.1904 - mae: 14046.6904\n",
            "Epoch 94/100\n",
            "8/8 [==============================] - 0s 25ms/step - loss: 16983.2090 - mae: 16983.7090\n",
            "Epoch 95/100\n",
            "8/8 [==============================] - 0s 24ms/step - loss: 16293.7588 - mae: 16294.2588\n",
            "Epoch 96/100\n",
            "8/8 [==============================] - 0s 25ms/step - loss: 28187.0117 - mae: 28187.5117\n",
            "Epoch 97/100\n",
            "8/8 [==============================] - 0s 25ms/step - loss: 17887.8672 - mae: 17888.3672\n",
            "Epoch 98/100\n",
            "8/8 [==============================] - 0s 25ms/step - loss: 45832.7500 - mae: 45833.2500\n",
            "Epoch 99/100\n",
            "8/8 [==============================] - 0s 25ms/step - loss: 25654.7168 - mae: 25655.2168\n",
            "Epoch 100/100\n",
            "8/8 [==============================] - 0s 25ms/step - loss: 22277.2383 - mae: 22277.7402\n"
          ],
          "name": "stdout"
        }
      ]
    },
    {
      "cell_type": "code",
      "metadata": {
        "colab": {
          "base_uri": "https://localhost:8080/",
          "height": 290
        },
        "id": "YoThk4SFqfgn",
        "outputId": "b8080a3d-f66d-43a3-82b1-514757a1e52c"
      },
      "source": [
        "plt.semilogx(history.history[\"lr\"], history.history[\"loss\"])\n",
        "plt.axis([1e-7, 1e-4, 0, 30])"
      ],
      "execution_count": 7,
      "outputs": [
        {
          "output_type": "execute_result",
          "data": {
            "text/plain": [
              "(1e-07, 0.0001, 0.0, 30.0)"
            ]
          },
          "metadata": {
            "tags": []
          },
          "execution_count": 7
        },
        {
          "output_type": "display_data",
          "data": {
            "image/png": "[encoded data removed]",
            "text/plain": [
              "<Figure size 432x288 with 1 Axes>"
            ]
          },
          "metadata": {
            "tags": [],
            "needs_background": "light"
          }
        }
      ]
    },
    {
      "cell_type": "code",
      "metadata": {
        "colab": {
          "base_uri": "https://localhost:8080/"
        },
        "id": "tPd2vV5UqmFC",
        "outputId": "043ffb6e-1b1a-4dbd-d41c-cbb41d7021a0"
      },
      "source": [
        "keras.backend.clear_session()\n",
        "tf.random.set_seed(42)\n",
        "np.random.seed(42)\n",
        "\n",
        "window_size = 30\n",
        "train_set = window_dataset(x_train, window_size, batch_size=128)\n",
        "valid_set = window_dataset(x_valid, window_size, batch_size=128)\n",
        "\n",
        "model = keras.models.Sequential([\n",
        "  keras.layers.Lambda(lambda x: tf.expand_dims(x, axis=-1),\n",
        "                      input_shape=[None]),\n",
        "  keras.layers.SimpleRNN(100, return_sequences=True),\n",
        "  keras.layers.SimpleRNN(100),\n",
        "  keras.layers.Dense(1),\n",
        "  keras.layers.Lambda(lambda x: x * 200.0)\n",
        "])\n",
        "optimizer = keras.optimizers.SGD(lr=1.5e-6, momentum=0.9)\n",
        "model.compile(loss=keras.losses.Huber(),\n",
        "              optimizer=optimizer,\n",
        "              metrics=[\"mae\"])\n",
        "early_stopping = keras.callbacks.EarlyStopping(patience=50)\n",
        "model_checkpoint = keras.callbacks.ModelCheckpoint(\n",
        "    \"my_checkpoint\", save_best_only=True)\n",
        "model.fit(train_set, epochs=500,\n",
        "          validation_data=valid_set,\n",
        "          callbacks=[early_stopping, model_checkpoint])"
      ],
      "execution_count": 8,
      "outputs": [
        {
          "output_type": "stream",
          "text": [
            "/usr/local/lib/python3.7/dist-packages/tensorflow/python/keras/optimizer_v2/optimizer_v2.py:375: UserWarning: The `lr` argument is deprecated, use `learning_rate` instead.\n",
            "  \"The `lr` argument is deprecated, use `learning_rate` instead.\")\n"
          ],
          "name": "stderr"
        },
        {
          "output_type": "stream",
          "text": [
            "Epoch 1/500\n",
            "8/8 [==============================] - 2s 85ms/step - loss: 53.0682 - mae: 53.5678 - val_loss: 56.0218 - val_mae: 56.5218\n",
            "INFO:tensorflow:Assets written to: my_checkpoint/assets\n",
            "Epoch 2/500\n",
            "8/8 [==============================] - 0s 42ms/step - loss: 34.5547 - mae: 35.0523 - val_loss: 21.7325 - val_mae: 22.2306\n",
            "INFO:tensorflow:Assets written to: my_checkpoint/assets\n",
            "Epoch 3/500\n",
            "8/8 [==============================] - 0s 43ms/step - loss: 19.3263 - mae: 19.8229 - val_loss: 28.6856 - val_mae: 29.1856\n",
            "Epoch 4/500\n",
            "8/8 [==============================] - 0s 42ms/step - loss: 11.9401 - mae: 12.4275 - val_loss: 17.3416 - val_mae: 17.8416\n",
            "INFO:tensorflow:Assets written to: my_checkpoint/assets\n",
            "Epoch 5/500\n",
            "8/8 [==============================] - 0s 42ms/step - loss: 15.6306 - mae: 16.1290 - val_loss: 8.1786 - val_mae: 8.6761\n",
            "INFO:tensorflow:Assets written to: my_checkpoint/assets\n",
            "Epoch 6/500\n",
            "8/8 [==============================] - 0s 41ms/step - loss: 12.0588 - mae: 12.5498 - val_loss: 7.0906 - val_mae: 7.5685\n",
            "INFO:tensorflow:Assets written to: my_checkpoint/assets\n",
            "Epoch 7/500\n",
            "8/8 [==============================] - 0s 42ms/step - loss: 9.2746 - mae: 9.7520 - val_loss: 17.9419 - val_mae: 18.4419\n",
            "Epoch 8/500\n",
            "8/8 [==============================] - 0s 43ms/step - loss: 9.4180 - mae: 9.9011 - val_loss: 14.5410 - val_mae: 15.0410\n",
            "Epoch 9/500\n",
            "8/8 [==============================] - 0s 42ms/step - loss: 8.8528 - mae: 9.3491 - val_loss: 9.4641 - val_mae: 9.9641\n",
            "Epoch 10/500\n",
            "8/8 [==============================] - 0s 42ms/step - loss: 7.6814 - mae: 8.1787 - val_loss: 13.0403 - val_mae: 13.5403\n",
            "Epoch 11/500\n",
            "8/8 [==============================] - 0s 41ms/step - loss: 8.1500 - mae: 8.6476 - val_loss: 11.5274 - val_mae: 12.0274\n",
            "Epoch 12/500\n",
            "8/8 [==============================] - 0s 42ms/step - loss: 8.0397 - mae: 8.5373 - val_loss: 10.0803 - val_mae: 10.5803\n",
            "Epoch 13/500\n",
            "8/8 [==============================] - 0s 42ms/step - loss: 7.2236 - mae: 7.7191 - val_loss: 12.7111 - val_mae: 13.2111\n",
            "Epoch 14/500\n",
            "8/8 [==============================] - 0s 43ms/step - loss: 9.0633 - mae: 9.5610 - val_loss: 13.6839 - val_mae: 14.1768\n",
            "Epoch 15/500\n",
            "8/8 [==============================] - 0s 40ms/step - loss: 21.7417 - mae: 22.2413 - val_loss: 4.1881 - val_mae: 4.6360\n",
            "INFO:tensorflow:Assets written to: my_checkpoint/assets\n",
            "Epoch 16/500\n",
            "8/8 [==============================] - 0s 41ms/step - loss: 16.9929 - mae: 17.4912 - val_loss: 9.6616 - val_mae: 10.1592\n",
            "Epoch 17/500\n",
            "8/8 [==============================] - 0s 43ms/step - loss: 17.1432 - mae: 17.6426 - val_loss: 9.7432 - val_mae: 10.2410\n",
            "Epoch 18/500\n",
            "8/8 [==============================] - 0s 42ms/step - loss: 18.8959 - mae: 19.3955 - val_loss: 5.5409 - val_mae: 5.9771\n",
            "Epoch 19/500\n",
            "8/8 [==============================] - 0s 40ms/step - loss: 16.1953 - mae: 16.6899 - val_loss: 7.2437 - val_mae: 7.7419\n",
            "Epoch 20/500\n",
            "8/8 [==============================] - 0s 41ms/step - loss: 17.6750 - mae: 18.1749 - val_loss: 5.9154 - val_mae: 6.3911\n",
            "Epoch 21/500\n",
            "8/8 [==============================] - 0s 41ms/step - loss: 13.9554 - mae: 14.4542 - val_loss: 7.9400 - val_mae: 8.4381\n",
            "Epoch 22/500\n",
            "8/8 [==============================] - 0s 42ms/step - loss: 6.9480 - mae: 7.4339 - val_loss: 17.7032 - val_mae: 18.2032\n",
            "Epoch 23/500\n",
            "8/8 [==============================] - 0s 41ms/step - loss: 5.0429 - mae: 5.5239 - val_loss: 7.2265 - val_mae: 7.7238\n",
            "Epoch 24/500\n",
            "8/8 [==============================] - 0s 43ms/step - loss: 3.5123 - mae: 3.9740 - val_loss: 11.8609 - val_mae: 12.3609\n",
            "Epoch 25/500\n",
            "8/8 [==============================] - 0s 45ms/step - loss: 4.3166 - mae: 4.7950 - val_loss: 3.2728 - val_mae: 3.7681\n",
            "INFO:tensorflow:Assets written to: my_checkpoint/assets\n",
            "Epoch 26/500\n",
            "8/8 [==============================] - 0s 44ms/step - loss: 5.9091 - mae: 6.3993 - val_loss: 5.2523 - val_mae: 5.7490\n",
            "Epoch 27/500\n",
            "8/8 [==============================] - 0s 43ms/step - loss: 5.7269 - mae: 6.2248 - val_loss: 7.5537 - val_mae: 8.0498\n",
            "Epoch 28/500\n",
            "8/8 [==============================] - 0s 40ms/step - loss: 5.6823 - mae: 6.1746 - val_loss: 5.2454 - val_mae: 5.7423\n",
            "Epoch 29/500\n",
            "8/8 [==============================] - 0s 42ms/step - loss: 5.3517 - mae: 5.8327 - val_loss: 4.5588 - val_mae: 5.0386\n",
            "Epoch 30/500\n",
            "8/8 [==============================] - 0s 41ms/step - loss: 3.3529 - mae: 3.8192 - val_loss: 11.5686 - val_mae: 12.0686\n",
            "Epoch 31/500\n",
            "8/8 [==============================] - 0s 40ms/step - loss: 5.7753 - mae: 6.2711 - val_loss: 5.0287 - val_mae: 5.5287\n",
            "Epoch 32/500\n",
            "8/8 [==============================] - 0s 39ms/step - loss: 5.6174 - mae: 6.1144 - val_loss: 7.3009 - val_mae: 7.8008\n",
            "Epoch 33/500\n",
            "8/8 [==============================] - 0s 42ms/step - loss: 5.6522 - mae: 6.1501 - val_loss: 4.8721 - val_mae: 5.3721\n",
            "Epoch 34/500\n",
            "8/8 [==============================] - 0s 44ms/step - loss: 5.5102 - mae: 6.0075 - val_loss: 4.1086 - val_mae: 4.5633\n",
            "Epoch 35/500\n",
            "8/8 [==============================] - 0s 40ms/step - loss: 5.1111 - mae: 5.5970 - val_loss: 4.2278 - val_mae: 4.7053\n",
            "Epoch 36/500\n",
            "8/8 [==============================] - 0s 42ms/step - loss: 4.8376 - mae: 5.3086 - val_loss: 2.9533 - val_mae: 3.4479\n",
            "INFO:tensorflow:Assets written to: my_checkpoint/assets\n",
            "Epoch 37/500\n",
            "8/8 [==============================] - 0s 38ms/step - loss: 2.8611 - mae: 3.3541 - val_loss: 2.6654 - val_mae: 3.1591\n",
            "INFO:tensorflow:Assets written to: my_checkpoint/assets\n",
            "Epoch 38/500\n",
            "8/8 [==============================] - 0s 40ms/step - loss: 2.9909 - mae: 3.4714 - val_loss: 2.0470 - val_mae: 2.5147\n",
            "INFO:tensorflow:Assets written to: my_checkpoint/assets\n",
            "Epoch 39/500\n",
            "8/8 [==============================] - 0s 43ms/step - loss: 8.3195 - mae: 8.7938 - val_loss: 16.7963 - val_mae: 17.2963\n",
            "Epoch 40/500\n",
            "8/8 [==============================] - 0s 42ms/step - loss: 8.0464 - mae: 8.5418 - val_loss: 11.0514 - val_mae: 11.5485\n",
            "Epoch 41/500\n",
            "8/8 [==============================] - 0s 43ms/step - loss: 9.9397 - mae: 10.4389 - val_loss: 13.0544 - val_mae: 13.5544\n",
            "Epoch 42/500\n",
            "8/8 [==============================] - 0s 40ms/step - loss: 9.3463 - mae: 9.8456 - val_loss: 9.4788 - val_mae: 9.9788\n",
            "Epoch 43/500\n",
            "8/8 [==============================] - 0s 40ms/step - loss: 8.3341 - mae: 8.8199 - val_loss: 6.9222 - val_mae: 7.4190\n",
            "Epoch 44/500\n",
            "8/8 [==============================] - 0s 42ms/step - loss: 9.5224 - mae: 10.0195 - val_loss: 15.4489 - val_mae: 15.9489\n",
            "Epoch 45/500\n",
            "8/8 [==============================] - 0s 39ms/step - loss: 9.3044 - mae: 9.8039 - val_loss: 7.7494 - val_mae: 8.2390\n",
            "Epoch 46/500\n",
            "8/8 [==============================] - 0s 42ms/step - loss: 5.1941 - mae: 5.6791 - val_loss: 16.2336 - val_mae: 16.7336\n",
            "Epoch 47/500\n",
            "8/8 [==============================] - 0s 43ms/step - loss: 9.8893 - mae: 10.3886 - val_loss: 4.8196 - val_mae: 5.3189\n",
            "Epoch 48/500\n",
            "8/8 [==============================] - 0s 44ms/step - loss: 8.3258 - mae: 8.8128 - val_loss: 9.9124 - val_mae: 10.4083\n",
            "Epoch 49/500\n",
            "8/8 [==============================] - 0s 43ms/step - loss: 9.1694 - mae: 9.6655 - val_loss: 14.2661 - val_mae: 14.7661\n",
            "Epoch 50/500\n",
            "8/8 [==============================] - 0s 40ms/step - loss: 9.4135 - mae: 9.9126 - val_loss: 6.5187 - val_mae: 7.0020\n",
            "Epoch 51/500\n",
            "8/8 [==============================] - 0s 39ms/step - loss: 4.5754 - mae: 5.0496 - val_loss: 6.6758 - val_mae: 7.1758\n",
            "Epoch 52/500\n",
            "8/8 [==============================] - 0s 41ms/step - loss: 5.6551 - mae: 6.1436 - val_loss: 6.9745 - val_mae: 7.4745\n",
            "Epoch 53/500\n",
            "8/8 [==============================] - 0s 39ms/step - loss: 2.3879 - mae: 2.8450 - val_loss: 3.4934 - val_mae: 3.9169\n",
            "Epoch 54/500\n",
            "8/8 [==============================] - 0s 40ms/step - loss: 4.3439 - mae: 4.8110 - val_loss: 2.1120 - val_mae: 2.5081\n",
            "Epoch 55/500\n",
            "8/8 [==============================] - 0s 42ms/step - loss: 8.7538 - mae: 9.2482 - val_loss: 15.0058 - val_mae: 15.5058\n",
            "Epoch 56/500\n",
            "8/8 [==============================] - 0s 41ms/step - loss: 8.5976 - mae: 9.0968 - val_loss: 10.7705 - val_mae: 11.2619\n",
            "Epoch 57/500\n",
            "8/8 [==============================] - 0s 43ms/step - loss: 9.5941 - mae: 10.0925 - val_loss: 7.4902 - val_mae: 7.9871\n",
            "Epoch 58/500\n",
            "8/8 [==============================] - 0s 40ms/step - loss: 8.3049 - mae: 8.8045 - val_loss: 15.3922 - val_mae: 15.8922\n",
            "Epoch 59/500\n",
            "8/8 [==============================] - 0s 44ms/step - loss: 8.3551 - mae: 8.8540 - val_loss: 7.6548 - val_mae: 8.1519\n",
            "Epoch 60/500\n",
            "8/8 [==============================] - 0s 41ms/step - loss: 8.9913 - mae: 9.4795 - val_loss: 3.0997 - val_mae: 3.5230\n",
            "Epoch 61/500\n",
            "8/8 [==============================] - 0s 44ms/step - loss: 8.3745 - mae: 8.8723 - val_loss: 14.8603 - val_mae: 15.3603\n",
            "Epoch 62/500\n",
            "8/8 [==============================] - 0s 44ms/step - loss: 8.3397 - mae: 8.8313 - val_loss: 3.7837 - val_mae: 4.2775\n",
            "Epoch 63/500\n",
            "8/8 [==============================] - 0s 42ms/step - loss: 7.6430 - mae: 8.1299 - val_loss: 3.0411 - val_mae: 3.4552\n",
            "Epoch 64/500\n",
            "8/8 [==============================] - 0s 44ms/step - loss: 7.9807 - mae: 8.4768 - val_loss: 14.3002 - val_mae: 14.8002\n",
            "Epoch 65/500\n",
            "8/8 [==============================] - 0s 41ms/step - loss: 8.6499 - mae: 9.1404 - val_loss: 3.1019 - val_mae: 3.5326\n",
            "Epoch 66/500\n",
            "8/8 [==============================] - 0s 40ms/step - loss: 8.1842 - mae: 8.6815 - val_loss: 5.8913 - val_mae: 6.3886\n",
            "Epoch 67/500\n",
            "8/8 [==============================] - 0s 44ms/step - loss: 5.8349 - mae: 6.3026 - val_loss: 13.1366 - val_mae: 13.6366\n",
            "Epoch 68/500\n",
            "8/8 [==============================] - 0s 42ms/step - loss: 3.1758 - mae: 3.6593 - val_loss: 11.7078 - val_mae: 12.2078\n",
            "Epoch 69/500\n",
            "8/8 [==============================] - 0s 42ms/step - loss: 5.6351 - mae: 6.1119 - val_loss: 2.3606 - val_mae: 2.6970\n",
            "Epoch 70/500\n",
            "8/8 [==============================] - 0s 43ms/step - loss: 4.4521 - mae: 4.9479 - val_loss: 4.7700 - val_mae: 5.2671\n",
            "Epoch 71/500\n",
            "8/8 [==============================] - 0s 44ms/step - loss: 4.2786 - mae: 4.7633 - val_loss: 2.4334 - val_mae: 2.9020\n",
            "Epoch 72/500\n",
            "8/8 [==============================] - 0s 42ms/step - loss: 2.8194 - mae: 3.2664 - val_loss: 8.3046 - val_mae: 8.8046\n",
            "Epoch 73/500\n",
            "8/8 [==============================] - 0s 41ms/step - loss: 3.7721 - mae: 4.2571 - val_loss: 3.1451 - val_mae: 3.6411\n",
            "Epoch 74/500\n",
            "8/8 [==============================] - 0s 40ms/step - loss: 5.0686 - mae: 5.5384 - val_loss: 21.0345 - val_mae: 21.5345\n",
            "Epoch 75/500\n",
            "8/8 [==============================] - 0s 42ms/step - loss: 10.4126 - mae: 10.8862 - val_loss: 15.1198 - val_mae: 15.6198\n",
            "Epoch 76/500\n",
            "8/8 [==============================] - 0s 41ms/step - loss: 6.2810 - mae: 6.7609 - val_loss: 16.3832 - val_mae: 16.8832\n",
            "Epoch 77/500\n",
            "8/8 [==============================] - 0s 42ms/step - loss: 12.6539 - mae: 13.1360 - val_loss: 24.6119 - val_mae: 25.1119\n",
            "Epoch 78/500\n",
            "8/8 [==============================] - 0s 42ms/step - loss: 11.5985 - mae: 12.0956 - val_loss: 5.2653 - val_mae: 5.7549\n",
            "Epoch 79/500\n",
            "8/8 [==============================] - 0s 44ms/step - loss: 3.8158 - mae: 4.2922 - val_loss: 5.1219 - val_mae: 5.6217\n",
            "Epoch 80/500\n",
            "8/8 [==============================] - 0s 42ms/step - loss: 2.1255 - mae: 2.6101 - val_loss: 3.1895 - val_mae: 3.6750\n",
            "Epoch 81/500\n",
            "8/8 [==============================] - 0s 40ms/step - loss: 2.1446 - mae: 2.6375 - val_loss: 5.0616 - val_mae: 5.5616\n",
            "Epoch 82/500\n",
            "8/8 [==============================] - 0s 42ms/step - loss: 2.0991 - mae: 2.5891 - val_loss: 3.3216 - val_mae: 3.8203\n",
            "Epoch 83/500\n",
            "8/8 [==============================] - 0s 46ms/step - loss: 2.1286 - mae: 2.6212 - val_loss: 4.9825 - val_mae: 5.4825\n",
            "Epoch 84/500\n",
            "8/8 [==============================] - 0s 38ms/step - loss: 4.3307 - mae: 4.8195 - val_loss: 12.3330 - val_mae: 12.8330\n",
            "Epoch 85/500\n",
            "8/8 [==============================] - 0s 42ms/step - loss: 14.6409 - mae: 15.1366 - val_loss: 5.7951 - val_mae: 6.2905\n",
            "Epoch 86/500\n",
            "8/8 [==============================] - 0s 39ms/step - loss: 11.7528 - mae: 12.2520 - val_loss: 7.6130 - val_mae: 8.1076\n",
            "Epoch 87/500\n",
            "8/8 [==============================] - 0s 41ms/step - loss: 12.8663 - mae: 13.3644 - val_loss: 5.2527 - val_mae: 5.7493\n",
            "Epoch 88/500\n",
            "8/8 [==============================] - 0s 39ms/step - loss: 12.0310 - mae: 12.5254 - val_loss: 3.0870 - val_mae: 3.4227\n"
          ],
          "name": "stdout"
        },
        {
          "output_type": "execute_result",
          "data": {
            "text/plain": [
              "<tensorflow.python.keras.callbacks.History at 0x7f362a88f610>"
            ]
          },
          "metadata": {
            "tags": []
          },
          "execution_count": 8
        }
      ]
    },
    {
      "cell_type": "code",
      "metadata": {
        "id": "nFUCylkvwCN7"
      },
      "source": [
        "model = keras.models.load_model(\"my_checkpoint\")"
      ],
      "execution_count": 9,
      "outputs": []
    },
    {
      "cell_type": "code",
      "metadata": {
        "id": "P8Q45RUgwKat"
      },
      "source": [
        "rnn_forecast = model_forecast(\n",
        "    model,\n",
        "    series[split_time - window_size:-1],\n",
        "    window_size)[:,0]"
      ],
      "execution_count": 10,
      "outputs": []
    },
    {
      "cell_type": "code",
      "metadata": {
        "colab": {
          "base_uri": "https://localhost:8080/",
          "height": 388
        },
        "id": "C9y6uIUiwgbn",
        "outputId": "6538da7e-00b7-40be-e4f5-e178b42cc0a6"
      },
      "source": [
        "plt.figure(figsize=(10, 6))\n",
        "plot_series(time_valid, x_valid)\n",
        "plot_series(time_valid, rnn_forecast)"
      ],
      "execution_count": 11,
      "outputs": [
        {
          "output_type": "display_data",
          "data": {
            "image/png": "[encoded data removed]",
            "text/plain": [
              "<Figure size 720x432 with 1 Axes>"
            ]
          },
          "metadata": {
            "tags": [],
            "needs_background": "light"
          }
        }
      ]
    },
    {
      "cell_type": "code",
      "metadata": {
        "colab": {
          "base_uri": "https://localhost:8080/"
        },
        "id": "HUBtc8euwiJD",
        "outputId": "89fb0005-44a8-4076-83aa-4e21abd93f9c"
      },
      "source": [
        "keras.metrics.mean_absolute_error(x_valid, rnn_forecast).numpy()"
      ],
      "execution_count": 12,
      "outputs": [
        {
          "output_type": "execute_result",
          "data": {
            "text/plain": [
              "2.3825016"
            ]
          },
          "metadata": {
            "tags": []
          },
          "execution_count": 12
        }
      ]
    },
    {
      "cell_type": "markdown",
      "metadata": {
        "id": "3z9MawbWwqvw"
      },
      "source": [
        "## Sequence-to-Sequence Forecasting"
      ]
    },
    {
      "cell_type": "code",
      "metadata": {
        "id": "h1Jpn1qSw457"
      },
      "source": [
        "def seq2seq_window_dataset(series, window_size, batch_size=32, shuffle_buffer=1000):\n",
        "  series = tf.expand_dims(series, axis=-1)\n",
        "  ds= tf.data.Dataset.from_tensor_slices(series)\n",
        "  ds = ds.window(window_size + 1, shift = 1, drop_remainder = True)\n",
        "  ds = ds.flat_map(lambda w:w.batch(window_size+1))\n",
        "  ds = ds.shuffle(shuffle_buffer)\n",
        "  ds = ds.map(lambda w:(w[:-1], w[1:]))\n",
        "  return ds.batch(batch_size).prefetch(1)"
      ],
      "execution_count": 13,
      "outputs": []
    },
    {
      "cell_type": "code",
      "metadata": {
        "colab": {
          "base_uri": "https://localhost:8080/"
        },
        "id": "hL5YIQUMx2gB",
        "outputId": "2c054549-5abe-4202-c4ec-534cc909468d"
      },
      "source": [
        "for X_batch, Y_batch in seq2seq_window_dataset(tf.range(10), 3,\n",
        "                                               batch_size=1):\n",
        "    print(\"X:\", X_batch.numpy())\n",
        "    print(\"Y:\", Y_batch.numpy())"
      ],
      "execution_count": 14,
      "outputs": [
        {
          "output_type": "stream",
          "text": [
            "X: [[[1]\n",
            "  [2]\n",
            "  [3]]]\n",
            "Y: [[[2]\n",
            "  [3]\n",
            "  [4]]]\n",
            "X: [[[2]\n",
            "  [3]\n",
            "  [4]]]\n",
            "Y: [[[3]\n",
            "  [4]\n",
            "  [5]]]\n",
            "X: [[[4]\n",
            "  [5]\n",
            "  [6]]]\n",
            "Y: [[[5]\n",
            "  [6]\n",
            "  [7]]]\n",
            "X: [[[3]\n",
            "  [4]\n",
            "  [5]]]\n",
            "Y: [[[4]\n",
            "  [5]\n",
            "  [6]]]\n",
            "X: [[[5]\n",
            "  [6]\n",
            "  [7]]]\n",
            "Y: [[[6]\n",
            "  [7]\n",
            "  [8]]]\n",
            "X: [[[6]\n",
            "  [7]\n",
            "  [8]]]\n",
            "Y: [[[7]\n",
            "  [8]\n",
            "  [9]]]\n",
            "X: [[[0]\n",
            "  [1]\n",
            "  [2]]]\n",
            "Y: [[[1]\n",
            "  [2]\n",
            "  [3]]]\n"
          ],
          "name": "stdout"
        }
      ]
    },
    {
      "cell_type": "code",
      "metadata": {
        "colab": {
          "base_uri": "https://localhost:8080/"
        },
        "id": "2YcyNNFRx4tF",
        "outputId": "4cb3081d-7d3e-43c6-fe9a-dc0845ccef5b"
      },
      "source": [
        "keras.backend.clear_session()\n",
        "tf.random.set_seed(42)\n",
        "np.random.seed(42)\n",
        "\n",
        "window_size = 30\n",
        "train_set = seq2seq_window_dataset(x_train, window_size,\n",
        "                                   batch_size=128)\n",
        "\n",
        "model = keras.models.Sequential([\n",
        "  keras.layers.SimpleRNN(100, return_sequences=True,\n",
        "                         input_shape=[None, 1]),\n",
        "  keras.layers.SimpleRNN(100, return_sequences=True),\n",
        "  keras.layers.Dense(1),\n",
        "  keras.layers.Lambda(lambda x: x * 200)\n",
        "])\n",
        "lr_schedule = keras.callbacks.LearningRateScheduler(\n",
        "    lambda epoch: 1e-7 * 10**(epoch / 30))\n",
        "optimizer = keras.optimizers.SGD(lr=1e-7, momentum=0.9)\n",
        "model.compile(loss=keras.losses.Huber(),\n",
        "              optimizer=optimizer,\n",
        "              metrics=[\"mae\"])\n",
        "history = model.fit(train_set, epochs=100, callbacks=[lr_schedule])"
      ],
      "execution_count": 15,
      "outputs": [
        {
          "output_type": "stream",
          "text": [
            "/usr/local/lib/python3.7/dist-packages/tensorflow/python/keras/optimizer_v2/optimizer_v2.py:375: UserWarning: The `lr` argument is deprecated, use `learning_rate` instead.\n",
            "  \"The `lr` argument is deprecated, use `learning_rate` instead.\")\n"
          ],
          "name": "stderr"
        },
        {
          "output_type": "stream",
          "text": [
            "Epoch 1/100\n",
            "8/8 [==============================] - 1s 25ms/step - loss: 52.6683 - mae: 53.1680\n",
            "Epoch 2/100\n",
            "8/8 [==============================] - 0s 24ms/step - loss: 24.1949 - mae: 24.6916\n",
            "Epoch 3/100\n",
            "8/8 [==============================] - 0s 27ms/step - loss: 20.9813 - mae: 21.4766\n",
            "Epoch 4/100\n",
            "8/8 [==============================] - 0s 26ms/step - loss: 17.9917 - mae: 18.4806\n",
            "Epoch 5/100\n",
            "8/8 [==============================] - 0s 26ms/step - loss: 15.3250 - mae: 15.8060\n",
            "Epoch 6/100\n",
            "8/8 [==============================] - 0s 26ms/step - loss: 14.2764 - mae: 14.7609\n",
            "Epoch 7/100\n",
            "8/8 [==============================] - 0s 24ms/step - loss: 13.0575 - mae: 13.5249\n",
            "Epoch 8/100\n",
            "8/8 [==============================] - 0s 24ms/step - loss: 12.4771 - mae: 12.9277\n",
            "Epoch 9/100\n",
            "8/8 [==============================] - 0s 26ms/step - loss: 11.9337 - mae: 12.3679\n",
            "Epoch 10/100\n",
            "8/8 [==============================] - 0s 27ms/step - loss: 11.4711 - mae: 11.8926\n",
            "Epoch 11/100\n",
            "8/8 [==============================] - 0s 26ms/step - loss: 11.0172 - mae: 11.4314\n",
            "Epoch 12/100\n",
            "8/8 [==============================] - 0s 24ms/step - loss: 10.6519 - mae: 11.0875\n",
            "Epoch 13/100\n",
            "8/8 [==============================] - 0s 26ms/step - loss: 10.2059 - mae: 10.6441\n",
            "Epoch 14/100\n",
            "8/8 [==============================] - 0s 26ms/step - loss: 9.7225 - mae: 10.1348\n",
            "Epoch 15/100\n",
            "8/8 [==============================] - 0s 27ms/step - loss: 9.3052 - mae: 9.7139\n",
            "Epoch 16/100\n",
            "8/8 [==============================] - 0s 26ms/step - loss: 8.8777 - mae: 9.2948\n",
            "Epoch 17/100\n",
            "8/8 [==============================] - 0s 25ms/step - loss: 8.4512 - mae: 8.8714\n",
            "Epoch 18/100\n",
            "8/8 [==============================] - 0s 26ms/step - loss: 7.9928 - mae: 8.4082\n",
            "Epoch 19/100\n",
            "8/8 [==============================] - 0s 26ms/step - loss: 7.5226 - mae: 7.9421\n",
            "Epoch 20/100\n",
            "8/8 [==============================] - 0s 28ms/step - loss: 7.1278 - mae: 7.5569\n",
            "Epoch 21/100\n",
            "8/8 [==============================] - 0s 26ms/step - loss: 6.5657 - mae: 6.9811\n",
            "Epoch 22/100\n",
            "8/8 [==============================] - 0s 26ms/step - loss: 6.2888 - mae: 6.7240\n",
            "Epoch 23/100\n",
            "8/8 [==============================] - 0s 26ms/step - loss: 5.9415 - mae: 6.3783\n",
            "Epoch 24/100\n",
            "8/8 [==============================] - 0s 26ms/step - loss: 5.6078 - mae: 6.0584\n",
            "Epoch 25/100\n",
            "8/8 [==============================] - 0s 25ms/step - loss: 6.0433 - mae: 6.5070\n",
            "Epoch 26/100\n",
            "8/8 [==============================] - 0s 24ms/step - loss: 5.8302 - mae: 6.2962\n",
            "Epoch 27/100\n",
            "8/8 [==============================] - 0s 24ms/step - loss: 5.2541 - mae: 5.7116\n",
            "Epoch 28/100\n",
            "8/8 [==============================] - 0s 24ms/step - loss: 7.9123 - mae: 8.4061\n",
            "Epoch 29/100\n",
            "8/8 [==============================] - 0s 24ms/step - loss: 8.5223 - mae: 9.0189\n",
            "Epoch 30/100\n",
            "8/8 [==============================] - 0s 24ms/step - loss: 8.0510 - mae: 8.5459\n",
            "Epoch 31/100\n",
            "8/8 [==============================] - 0s 24ms/step - loss: 8.0474 - mae: 8.5423\n",
            "Epoch 32/100\n",
            "8/8 [==============================] - 0s 26ms/step - loss: 8.1298 - mae: 8.6233\n",
            "Epoch 33/100\n",
            "8/8 [==============================] - 0s 27ms/step - loss: 7.9559 - mae: 8.4448\n",
            "Epoch 34/100\n",
            "8/8 [==============================] - 0s 24ms/step - loss: 8.3182 - mae: 8.8095\n",
            "Epoch 35/100\n",
            "8/8 [==============================] - 0s 25ms/step - loss: 10.1926 - mae: 10.6859\n",
            "Epoch 36/100\n",
            "8/8 [==============================] - 0s 26ms/step - loss: 8.6922 - mae: 9.1875\n",
            "Epoch 37/100\n",
            "8/8 [==============================] - 0s 24ms/step - loss: 9.4705 - mae: 9.9670\n",
            "Epoch 38/100\n",
            "8/8 [==============================] - 0s 25ms/step - loss: 10.2333 - mae: 10.7301\n",
            "Epoch 39/100\n",
            "8/8 [==============================] - 0s 25ms/step - loss: 10.3131 - mae: 10.8102\n",
            "Epoch 40/100\n",
            "8/8 [==============================] - 0s 25ms/step - loss: 10.9558 - mae: 11.4534\n",
            "Epoch 41/100\n",
            "8/8 [==============================] - 0s 29ms/step - loss: 11.2645 - mae: 11.7623\n",
            "Epoch 42/100\n",
            "8/8 [==============================] - 0s 25ms/step - loss: 11.7821 - mae: 12.2795\n",
            "Epoch 43/100\n",
            "8/8 [==============================] - 0s 24ms/step - loss: 12.6589 - mae: 13.1581\n",
            "Epoch 44/100\n",
            "8/8 [==============================] - 0s 25ms/step - loss: 12.2537 - mae: 12.7511\n",
            "Epoch 45/100\n",
            "8/8 [==============================] - 0s 26ms/step - loss: 13.3020 - mae: 13.7999\n",
            "Epoch 46/100\n",
            "8/8 [==============================] - 0s 25ms/step - loss: 13.6882 - mae: 14.1867\n",
            "Epoch 47/100\n",
            "8/8 [==============================] - 0s 24ms/step - loss: 13.8206 - mae: 14.3174\n",
            "Epoch 48/100\n",
            "8/8 [==============================] - 0s 28ms/step - loss: 9.1391 - mae: 9.6296\n",
            "Epoch 49/100\n",
            "8/8 [==============================] - 0s 25ms/step - loss: 16.3085 - mae: 16.8074\n",
            "Epoch 50/100\n",
            "8/8 [==============================] - 0s 27ms/step - loss: 15.1892 - mae: 15.6856\n",
            "Epoch 51/100\n",
            "8/8 [==============================] - 0s 25ms/step - loss: 16.5799 - mae: 17.0747\n",
            "Epoch 52/100\n",
            "8/8 [==============================] - 0s 26ms/step - loss: 16.9515 - mae: 17.4506\n",
            "Epoch 53/100\n",
            "8/8 [==============================] - 0s 25ms/step - loss: 16.6850 - mae: 17.1780\n",
            "Epoch 54/100\n",
            "8/8 [==============================] - 0s 25ms/step - loss: 18.9118 - mae: 19.4093\n",
            "Epoch 55/100\n",
            "8/8 [==============================] - 0s 24ms/step - loss: 37.3760 - mae: 37.8759\n",
            "Epoch 56/100\n",
            "8/8 [==============================] - 0s 27ms/step - loss: 31.7289 - mae: 32.2282\n",
            "Epoch 57/100\n",
            "8/8 [==============================] - 0s 26ms/step - loss: 35.7331 - mae: 36.2325\n",
            "Epoch 58/100\n",
            "8/8 [==============================] - 0s 24ms/step - loss: 20.3934 - mae: 20.8920\n",
            "Epoch 59/100\n",
            "8/8 [==============================] - 0s 28ms/step - loss: 11.4660 - mae: 11.9594\n",
            "Epoch 60/100\n",
            "8/8 [==============================] - 0s 26ms/step - loss: 10.0698 - mae: 10.5535\n",
            "Epoch 61/100\n",
            "8/8 [==============================] - 0s 23ms/step - loss: 12.1511 - mae: 12.6497\n",
            "Epoch 62/100\n",
            "8/8 [==============================] - 0s 25ms/step - loss: 26.5215 - mae: 27.0019\n",
            "Epoch 63/100\n",
            "8/8 [==============================] - 0s 26ms/step - loss: 39.7863 - mae: 40.2854\n",
            "Epoch 64/100\n",
            "8/8 [==============================] - 0s 25ms/step - loss: 24.1905 - mae: 24.6893\n",
            "Epoch 65/100\n",
            "8/8 [==============================] - 0s 26ms/step - loss: 54.8235 - mae: 55.3223\n",
            "Epoch 66/100\n",
            "8/8 [==============================] - 0s 27ms/step - loss: 48.7771 - mae: 49.2761\n",
            "Epoch 67/100\n",
            "8/8 [==============================] - 0s 25ms/step - loss: 55.0316 - mae: 55.5302\n",
            "Epoch 68/100\n",
            "8/8 [==============================] - 0s 25ms/step - loss: 23.3102 - mae: 23.8061\n",
            "Epoch 69/100\n",
            "8/8 [==============================] - 0s 25ms/step - loss: 19.7684 - mae: 20.2646\n",
            "Epoch 70/100\n",
            "8/8 [==============================] - 0s 24ms/step - loss: 86.8780 - mae: 87.3771\n",
            "Epoch 71/100\n",
            "8/8 [==============================] - 0s 26ms/step - loss: 72.9354 - mae: 73.4346\n",
            "Epoch 72/100\n",
            "8/8 [==============================] - 0s 26ms/step - loss: 21.1003 - mae: 21.5981\n",
            "Epoch 73/100\n",
            "8/8 [==============================] - 0s 27ms/step - loss: 82.0988 - mae: 82.5986\n",
            "Epoch 74/100\n",
            "8/8 [==============================] - 0s 27ms/step - loss: 98.4266 - mae: 98.9255\n",
            "Epoch 75/100\n",
            "8/8 [==============================] - 0s 25ms/step - loss: 31.6989 - mae: 32.1971\n",
            "Epoch 76/100\n",
            "8/8 [==============================] - 0s 25ms/step - loss: 36.8313 - mae: 37.3305\n",
            "Epoch 77/100\n",
            "8/8 [==============================] - 0s 27ms/step - loss: 58.9340 - mae: 59.4180\n",
            "Epoch 78/100\n",
            "8/8 [==============================] - 0s 26ms/step - loss: 79.1322 - mae: 79.6315\n",
            "Epoch 79/100\n",
            "8/8 [==============================] - 0s 25ms/step - loss: 67.3497 - mae: 67.8490\n",
            "Epoch 80/100\n",
            "8/8 [==============================] - 0s 27ms/step - loss: 80.5617 - mae: 81.0611\n",
            "Epoch 81/100\n",
            "8/8 [==============================] - 0s 26ms/step - loss: 41.9547 - mae: 42.4533\n",
            "Epoch 82/100\n",
            "8/8 [==============================] - 0s 26ms/step - loss: 64.5188 - mae: 65.0176\n",
            "Epoch 83/100\n",
            "8/8 [==============================] - 0s 26ms/step - loss: 59.8998 - mae: 60.3992\n",
            "Epoch 84/100\n",
            "8/8 [==============================] - 0s 26ms/step - loss: 42.7437 - mae: 43.2421\n",
            "Epoch 85/100\n",
            "8/8 [==============================] - 0s 27ms/step - loss: 92.0220 - mae: 92.5186\n",
            "Epoch 86/100\n",
            "8/8 [==============================] - 0s 25ms/step - loss: 110.6920 - mae: 111.1917\n",
            "Epoch 87/100\n",
            "8/8 [==============================] - 0s 27ms/step - loss: 53.2194 - mae: 53.7182\n",
            "Epoch 88/100\n",
            "8/8 [==============================] - 0s 26ms/step - loss: 71.8466 - mae: 72.3464\n",
            "Epoch 89/100\n",
            "8/8 [==============================] - 0s 27ms/step - loss: 43.1819 - mae: 43.6768\n",
            "Epoch 90/100\n",
            "8/8 [==============================] - 0s 25ms/step - loss: 70.6511 - mae: 71.1505\n",
            "Epoch 91/100\n",
            "8/8 [==============================] - 0s 25ms/step - loss: 162.3902 - mae: 162.8901\n",
            "Epoch 92/100\n",
            "8/8 [==============================] - 0s 25ms/step - loss: 263.4531 - mae: 263.9530\n",
            "Epoch 93/100\n",
            "8/8 [==============================] - 0s 27ms/step - loss: 84.5696 - mae: 85.0687\n",
            "Epoch 94/100\n",
            "8/8 [==============================] - 0s 24ms/step - loss: 142.5285 - mae: 143.0272\n",
            "Epoch 95/100\n",
            "8/8 [==============================] - 0s 26ms/step - loss: 296.0854 - mae: 296.5845\n",
            "Epoch 96/100\n",
            "8/8 [==============================] - 0s 26ms/step - loss: 176.6647 - mae: 177.1643\n",
            "Epoch 97/100\n",
            "8/8 [==============================] - 0s 27ms/step - loss: 476.5903 - mae: 477.0903\n",
            "Epoch 98/100\n",
            "8/8 [==============================] - 0s 27ms/step - loss: 353.8529 - mae: 354.3530\n",
            "Epoch 99/100\n",
            "8/8 [==============================] - 0s 26ms/step - loss: 671.2418 - mae: 671.7417\n",
            "Epoch 100/100\n",
            "8/8 [==============================] - 0s 27ms/step - loss: 388.6486 - mae: 389.1483\n"
          ],
          "name": "stdout"
        }
      ]
    },
    {
      "cell_type": "code",
      "metadata": {
        "colab": {
          "base_uri": "https://localhost:8080/",
          "height": 290
        },
        "id": "0cuHF3200JCe",
        "outputId": "0efa1345-69e9-4d1e-9ba4-7a0265188724"
      },
      "source": [
        "plt.semilogx(history.history[\"lr\"], history.history[\"loss\"])\n",
        "plt.axis([1e-7, 1e-4, 0, 30])"
      ],
      "execution_count": 16,
      "outputs": [
        {
          "output_type": "execute_result",
          "data": {
            "text/plain": [
              "(1e-07, 0.0001, 0.0, 30.0)"
            ]
          },
          "metadata": {
            "tags": []
          },
          "execution_count": 16
        },
        {
          "output_type": "display_data",
          "data": {
            "image/png": "[encoded data removed]",
            "text/plain": [
              "<Figure size 432x288 with 1 Axes>"
            ]
          },
          "metadata": {
            "tags": [],
            "needs_background": "light"
          }
        }
      ]
    },
    {
      "cell_type": "code",
      "metadata": {
        "colab": {
          "base_uri": "https://localhost:8080/"
        },
        "id": "-Yf5TdKL0L83",
        "outputId": "b7ffd1ab-2774-4607-885d-cfff93568f4f"
      },
      "source": [
        "keras.backend.clear_session()\n",
        "tf.random.set_seed(42)\n",
        "np.random.seed(42)\n",
        "\n",
        "window_size = 30\n",
        "train_set = seq2seq_window_dataset(x_train, window_size,\n",
        "                                   batch_size=128)\n",
        "valid_set = seq2seq_window_dataset(x_valid, window_size,\n",
        "                                   batch_size=128)\n",
        "\n",
        "model = keras.models.Sequential([\n",
        "  keras.layers.SimpleRNN(100, return_sequences=True,\n",
        "                         input_shape=[None, 1]),\n",
        "  keras.layers.SimpleRNN(100, return_sequences=True),\n",
        "  keras.layers.Dense(1),\n",
        "  keras.layers.Lambda(lambda x: x * 200.0)\n",
        "])\n",
        "optimizer = keras.optimizers.SGD(lr=1e-6, momentum=0.9)\n",
        "model.compile(loss=keras.losses.Huber(),\n",
        "              optimizer=optimizer,\n",
        "              metrics=[\"mae\"])\n",
        "early_stopping = keras.callbacks.EarlyStopping(patience=10)\n",
        "model.fit(train_set, epochs=500,\n",
        "          validation_data=valid_set,\n",
        "          callbacks=[early_stopping])"
      ],
      "execution_count": 17,
      "outputs": [
        {
          "output_type": "stream",
          "text": [
            "/usr/local/lib/python3.7/dist-packages/tensorflow/python/keras/optimizer_v2/optimizer_v2.py:375: UserWarning: The `lr` argument is deprecated, use `learning_rate` instead.\n",
            "  \"The `lr` argument is deprecated, use `learning_rate` instead.\")\n"
          ],
          "name": "stderr"
        },
        {
          "output_type": "stream",
          "text": [
            "Epoch 1/500\n",
            "8/8 [==============================] - 2s 75ms/step - loss: 55.2482 - mae: 55.7472 - val_loss: 16.4813 - val_mae: 16.9793\n",
            "Epoch 2/500\n",
            "8/8 [==============================] - 0s 42ms/step - loss: 33.7522 - mae: 34.2494 - val_loss: 21.1187 - val_mae: 21.6167\n",
            "Epoch 3/500\n",
            "8/8 [==============================] - 0s 43ms/step - loss: 26.6146 - mae: 27.1112 - val_loss: 37.4955 - val_mae: 37.9943\n",
            "Epoch 4/500\n",
            "8/8 [==============================] - 0s 40ms/step - loss: 19.6999 - mae: 20.1962 - val_loss: 26.0259 - val_mae: 26.5258\n",
            "Epoch 5/500\n",
            "8/8 [==============================] - 0s 41ms/step - loss: 15.1073 - mae: 15.5997 - val_loss: 10.3615 - val_mae: 10.8451\n",
            "Epoch 6/500\n",
            "8/8 [==============================] - 0s 41ms/step - loss: 12.2220 - mae: 12.7092 - val_loss: 12.2799 - val_mae: 12.7764\n",
            "Epoch 7/500\n",
            "8/8 [==============================] - 0s 42ms/step - loss: 10.6667 - mae: 11.1519 - val_loss: 9.6335 - val_mae: 10.1285\n",
            "Epoch 8/500\n",
            "8/8 [==============================] - 0s 42ms/step - loss: 9.6917 - mae: 10.1822 - val_loss: 8.8328 - val_mae: 9.3279\n",
            "Epoch 9/500\n",
            "8/8 [==============================] - 0s 39ms/step - loss: 8.7247 - mae: 9.2148 - val_loss: 10.3490 - val_mae: 10.8461\n",
            "Epoch 10/500\n",
            "8/8 [==============================] - 0s 41ms/step - loss: 8.4972 - mae: 8.9874 - val_loss: 9.7931 - val_mae: 10.2898\n",
            "Epoch 11/500\n",
            "8/8 [==============================] - 0s 42ms/step - loss: 8.2043 - mae: 8.6961 - val_loss: 7.7461 - val_mae: 8.2434\n",
            "Epoch 12/500\n",
            "8/8 [==============================] - 0s 42ms/step - loss: 7.9776 - mae: 8.4661 - val_loss: 5.0724 - val_mae: 5.5521\n",
            "Epoch 13/500\n",
            "8/8 [==============================] - 0s 42ms/step - loss: 8.6492 - mae: 9.1375 - val_loss: 6.5682 - val_mae: 7.0625\n",
            "Epoch 14/500\n",
            "8/8 [==============================] - 0s 41ms/step - loss: 7.0879 - mae: 7.5689 - val_loss: 5.5440 - val_mae: 6.0061\n",
            "Epoch 15/500\n",
            "8/8 [==============================] - 0s 43ms/step - loss: 6.2448 - mae: 6.7082 - val_loss: 8.0542 - val_mae: 8.5485\n",
            "Epoch 16/500\n",
            "8/8 [==============================] - 0s 42ms/step - loss: 6.7644 - mae: 7.2559 - val_loss: 8.1766 - val_mae: 8.6742\n",
            "Epoch 17/500\n",
            "8/8 [==============================] - 0s 40ms/step - loss: 6.4353 - mae: 6.9258 - val_loss: 7.2868 - val_mae: 7.7832\n",
            "Epoch 18/500\n",
            "8/8 [==============================] - 0s 40ms/step - loss: 6.2023 - mae: 6.6856 - val_loss: 7.3732 - val_mae: 7.8703\n",
            "Epoch 19/500\n",
            "8/8 [==============================] - 0s 43ms/step - loss: 5.3871 - mae: 5.8581 - val_loss: 3.6111 - val_mae: 4.0026\n",
            "Epoch 20/500\n",
            "8/8 [==============================] - 0s 42ms/step - loss: 4.4328 - mae: 4.8969 - val_loss: 3.8619 - val_mae: 4.2996\n",
            "Epoch 21/500\n",
            "8/8 [==============================] - 0s 42ms/step - loss: 4.3463 - mae: 4.7971 - val_loss: 3.1327 - val_mae: 3.5773\n",
            "Epoch 22/500\n",
            "8/8 [==============================] - 0s 42ms/step - loss: 3.9518 - mae: 4.3773 - val_loss: 3.2680 - val_mae: 3.7433\n",
            "Epoch 23/500\n",
            "8/8 [==============================] - 0s 41ms/step - loss: 3.9961 - mae: 4.4359 - val_loss: 5.7502 - val_mae: 6.2455\n",
            "Epoch 24/500\n",
            "8/8 [==============================] - 0s 42ms/step - loss: 6.3398 - mae: 6.8215 - val_loss: 11.6098 - val_mae: 12.1054\n",
            "Epoch 25/500\n",
            "8/8 [==============================] - 0s 42ms/step - loss: 9.2518 - mae: 9.7471 - val_loss: 11.0024 - val_mae: 11.5017\n",
            "Epoch 26/500\n",
            "8/8 [==============================] - 0s 41ms/step - loss: 9.3923 - mae: 9.8892 - val_loss: 8.0376 - val_mae: 8.5368\n",
            "Epoch 27/500\n",
            "8/8 [==============================] - 0s 41ms/step - loss: 8.3836 - mae: 8.8800 - val_loss: 8.2542 - val_mae: 8.7437\n",
            "Epoch 28/500\n",
            "8/8 [==============================] - 0s 39ms/step - loss: 8.2256 - mae: 8.7211 - val_loss: 11.8452 - val_mae: 12.3401\n",
            "Epoch 29/500\n",
            "8/8 [==============================] - 0s 41ms/step - loss: 8.5714 - mae: 9.0666 - val_loss: 7.9673 - val_mae: 8.4627\n",
            "Epoch 30/500\n",
            "8/8 [==============================] - 0s 43ms/step - loss: 8.1042 - mae: 8.5990 - val_loss: 6.6953 - val_mae: 7.1849\n",
            "Epoch 31/500\n",
            "8/8 [==============================] - 0s 43ms/step - loss: 7.7778 - mae: 8.2724 - val_loss: 12.3683 - val_mae: 12.8641\n"
          ],
          "name": "stdout"
        },
        {
          "output_type": "execute_result",
          "data": {
            "text/plain": [
              "<tensorflow.python.keras.callbacks.History at 0x7f3626fbaf50>"
            ]
          },
          "metadata": {
            "tags": []
          },
          "execution_count": 17
        }
      ]
    },
    {
      "cell_type": "code",
      "metadata": {
        "id": "w187P63W0OU-"
      },
      "source": [
        "rnn_forecast = model_forecast(model, series[..., np.newaxis], window_size)\n",
        "rnn_forecast = rnn_forecast[split_time - window_size:-1, -1, 0]"
      ],
      "execution_count": 18,
      "outputs": []
    },
    {
      "cell_type": "code",
      "metadata": {
        "colab": {
          "base_uri": "https://localhost:8080/",
          "height": 388
        },
        "id": "r6JhbSAl0Pb3",
        "outputId": "391ee1a5-6ee7-4661-8645-54ea36ef2ef9"
      },
      "source": [
        "plt.figure(figsize=(10, 6))\n",
        "plot_series(time_valid, x_valid)\n",
        "plot_series(time_valid, rnn_forecast)"
      ],
      "execution_count": 19,
      "outputs": [
        {
          "output_type": "display_data",
          "data": {
            "image/png": "[encoded data removed]",
            "text/plain": [
              "<Figure size 720x432 with 1 Axes>"
            ]
          },
          "metadata": {
            "tags": [],
            "needs_background": "light"
          }
        }
      ]
    },
    {
      "cell_type": "code",
      "metadata": {
        "colab": {
          "base_uri": "https://localhost:8080/"
        },
        "id": "SddsDgbA0Qbj",
        "outputId": "980fdbfb-0236-4de9-e468-826cc18ab1a1"
      },
      "source": [
        "keras.metrics.mean_absolute_error(x_valid, rnn_forecast).numpy()"
      ],
      "execution_count": 20,
      "outputs": [
        {
          "output_type": "execute_result",
          "data": {
            "text/plain": [
              "12.770759"
            ]
          },
          "metadata": {
            "tags": []
          },
          "execution_count": 20
        }
      ]
    }
  ]
}